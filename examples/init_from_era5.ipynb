{
 "cells": [
  {
   "cell_type": "markdown",
   "metadata": {},
   "source": [
    "# Nesting MicroHH in ERA5\n",
    "\n",
    "This notebook contains documentation and examples for nesting MicroHH with open boundary conditions in ERA5.\n",
    "\n",
    "Nesting LES-in-LES is documented separately in `TODO.ipynb`."
   ]
  },
  {
   "cell_type": "code",
   "execution_count": null,
   "metadata": {},
   "outputs": [],
   "source": [
    "#%matplotlib ipympl\n",
    "\n",
    "# Standard library\n",
    "import logging\n",
    "import glob\n",
    "import os\n",
    "\n",
    "# Third-party.\n",
    "import matplotlib.pyplot as plt\n",
    "import numpy as np\n",
    "from datetime import datetime\n",
    "import ls2d\n",
    "import cartopy.crs as ccrs\n",
    "import nest_asyncio\n",
    "import xarray as xr\n",
    "\n",
    "# Local library\n",
    "from microhhpy.spatial import Domain, plot_domains\n",
    "from microhhpy.real import create_input_from_regular_latlon\n",
    "from microhhpy.thermo import calc_moist_basestate\n",
    "\n",
    "TF = np.float64\n",
    "\n",
    "# Needed to use asyncio with Jupyter notebooks.``\n",
    "nest_asyncio.apply()\n",
    "\n",
    "# Set output level `microhhpy`.\n",
    "logger = logging.getLogger(\"microhhpy\")\n",
    "logger.setLevel(logging.DEBUG)   # or DEBUG"
   ]
  },
  {
   "cell_type": "markdown",
   "metadata": {},
   "source": [
    "## ERA5 data\n",
    "\n",
    "For now, we use (LS)²D to download and read the ERA5 data. This can be simplified later, as we only need a few 3D fields from ERA5, and do not use the large-scale forcings typically required for a doubly periodic LES."
   ]
  },
  {
   "cell_type": "code",
   "execution_count": null,
   "metadata": {},
   "outputs": [],
   "source": [
    "settings = {\n",
    "    'start_date'  : datetime(year=2022, month=4, day=1, hour=8),\n",
    "    'end_date'    : datetime(year=2022, month=4, day=1, hour=9),\n",
    "    'central_lon' : 4.8,\n",
    "    'central_lat' : 53,\n",
    "    'area_size'   : 5,\n",
    "    'case_name'   : 'slocs_rf',\n",
    "    'era5_path'   : '/home/scratch1/bart/LS2D_ERA5/',\n",
    "    'era5_expver' : 1,\n",
    "    'cdsapirc'    : '/home/bart/.cdsapirc_ads'\n",
    "    }\n",
    "\n",
    "era5 = ls2d.Read_era5(settings)\n",
    "era5.calculate_forcings(n_av=3, method='2nd')"
   ]
  },
  {
   "cell_type": "markdown",
   "metadata": {},
   "source": [
    "## Spatial projection\n",
    "\n",
    "To nest LES in ERA5, a transformation is needed from the LES grid (in meters) to geographic coordinates (latitude / longitude in degrees).\n",
    "\n",
    "The `Domain()` class provides a simple way to define the domain. The spatial transformation is performed using `pyproj`, based on the `proj_str` definition."
   ]
  },
  {
   "cell_type": "code",
   "execution_count": null,
   "metadata": {},
   "outputs": [],
   "source": [
    "lon = 4.8\n",
    "lat = 53.\n",
    "proj_str = f'+proj=lcc +lat_1={lat-1} +lat_2={lat+1} +lat_0={lat} +lon_0={lon} +x_0=0 +y_0=0 +datum=WGS84 +units=m +no_defs'\n",
    "\n",
    "dom0 = Domain(\n",
    "    xsize=256_000,\n",
    "    ysize=256_000,\n",
    "    itot=128,\n",
    "    jtot=128,\n",
    "    n_ghost=3,\n",
    "    n_sponge=5,\n",
    "    lon=lon,\n",
    "    lat=lat,\n",
    "    anchor='center',\n",
    "    proj_str=proj_str\n",
    "    )\n",
    "\n",
    "plot_domains([dom0], use_projection=True)"
   ]
  },
  {
   "cell_type": "markdown",
   "metadata": {},
   "source": [
    "Note that each `Domain` instance includes two projections: one with ghost cells and one without. The version with ghost cells is needed for generating the lateral boundary conditions.\n",
    "\n",
    "The padded projection actually includes `nghost + 1` ghost cells. The extra cells are needed to create divergence free fields in the east- and north-most ghost cells."
   ]
  },
  {
   "cell_type": "code",
   "execution_count": null,
   "metadata": {},
   "outputs": [],
   "source": [
    "print(dom0.proj.itot, dom0.proj_pad.itot)"
   ]
  },
  {
   "cell_type": "markdown",
   "metadata": {},
   "source": [
    "Coordinate pairs are available for each grid point location `(u, v, scalar)`:"
   ]
  },
  {
   "cell_type": "code",
   "execution_count": null,
   "metadata": {},
   "outputs": [],
   "source": [
    "plt.figure(figsize=(4,4))\n",
    "\n",
    "plt.scatter(dom0.proj.lon,   dom0.proj.lat,   marker='o', facecolor='none', edgecolor='C0', label='scalar')\n",
    "plt.scatter(dom0.proj.lon_u, dom0.proj.lat_u, marker='>', facecolor='none', edgecolor='C1', label='u')\n",
    "plt.scatter(dom0.proj.lon_v, dom0.proj.lat_v, marker='^', facecolor='none', edgecolor='C2', label='v')\n",
    "\n",
    "plt.xlim(dom0.proj.central_lon-0.03, dom0.proj.central_lon+0.03)\n",
    "plt.ylim(dom0.proj.central_lat-0.03, dom0.proj.central_lat+0.03)\n",
    "\n",
    "plt.legend()"
   ]
  },
  {
   "cell_type": "markdown",
   "metadata": {},
   "source": [
    "## Vertical grid"
   ]
  },
  {
   "cell_type": "code",
   "execution_count": null,
   "metadata": {},
   "outputs": [],
   "source": [
    "zsize = 3200\n",
    "ktot = 128\n",
    "dz = zsize / ktot\n",
    "z = np.arange(dz/2, zsize, dz)"
   ]
  },
  {
   "cell_type": "markdown",
   "metadata": {},
   "source": [
    "## Basestate density\n",
    "\n",
    "Interpolate mean ERA5 fields to LES grid as basis for the LES basestate density. Again, this has to _perfectly_ match the basestate density used by MicroHH."
   ]
  },
  {
   "cell_type": "code",
   "execution_count": null,
   "metadata": {},
   "outputs": [],
   "source": [
    "les_input = era5.get_les_input(z)\n",
    "\n",
    "bs = calc_moist_basestate(\n",
    "    les_input['thl'][0,:].values,\n",
    "    les_input['qt'][0,:].values,\n",
    "    float(les_input['ps'][0].values),\n",
    "    z,\n",
    "    zsize,\n",
    "    dtype=TF)"
   ]
  },
  {
   "cell_type": "markdown",
   "metadata": {},
   "source": [
    "<div class=\"alert alert-block alert-info\">NOTE: using an incorrect vertical grid definition or a base state density that doesn't match the one in MicroHH is one of the easiest ways to mess up the initialization. If your MicroHH simulations are not divergence-free at `t==0`, this should be the first thing to check.</div>"
   ]
  },
  {
   "cell_type": "markdown",
   "metadata": {},
   "source": [
    "## Initial conditions\n",
    "\n",
    "The initial conditions are (not so...) simply the 3D ERA5 fields tri-linearly interpolated to the LES grid.\n",
    "\n",
    "To reduce the blocky structures that result from interpolating coarse ERA5 data, a Gaussian filter with standard deviation `sigma_h` is applied after interpolation.\n",
    "\n",
    "### Momentum & divergence\n",
    "The momentum fields require special treatment because they must be divergence-free. To achieve this, the `(u, v)` velocity components are corrected such that the resulting velocity field is divergence free, while preserving the original vertical velocity from the large-scale model.\n",
    "\n",
    "### Output\n",
    "\n",
    "The initial conditions are written directly as binary input files (e.g. `u.0000000`) for MicroHH in the specified `output_dir`. By setting a `name_suffix`, the files can optionally be written with a custom name, such as `u_some_name.0000000`. This allows you to overwrite the homogeneous 3D restart files generated during the `init` phase of MicroHH with the fields derived from ERA5.\n",
    "\n",
    "<div class=\"alert alert-block alert-info\">NOTE: When using (LS)²D data, be sure to use `wls` (and not `w`) for the vertical velocity!</div>"
   ]
  },
  {
   "cell_type": "code",
   "execution_count": null,
   "metadata": {},
   "outputs": [],
   "source": [
    "fields_era = {\n",
    "    'u': era5.u[:,:,:,:],\n",
    "    'v': era5.v[:,:,:,:],\n",
    "    'w': era5.wls[:,:,:,:],\n",
    "    'thl': era5.thl[:,:,:,:],\n",
    "    'qt': era5.qt[:,:,:,:],\n",
    "}\n",
    "\n",
    "# Gaussian filter size (m) of filter after interpolation.\n",
    "sigma_h = 10_000\n",
    "\n",
    "# 3D buffer.\n",
    "zstart_buffer = 0.75 * zsize\n",
    "\n",
    "ds = create_input_from_regular_latlon(\n",
    "    fields_era,\n",
    "    era5.lons.data,   # Strip off array masks.\n",
    "    era5.lats.data,\n",
    "    era5.z[:,:,:,:],\n",
    "    era5.p[:,:,:,:],\n",
    "    era5.time_sec,\n",
    "    z,\n",
    "    zsize,\n",
    "    zstart_buffer,\n",
    "    bs['rho'],\n",
    "    bs['rhoh'],\n",
    "    dom0,\n",
    "    sigma_h,\n",
    "    perturb_size=4,\n",
    "    perturb_amplitude={'thl': 0.1, 'qt':0.1e-3},\n",
    "    perturb_max_height=1000,\n",
    "    clip_at_zero=['qt'],\n",
    "    name_suffix='era5',\n",
    "    output_dir='.',\n",
    "    ntasks=16,\n",
    "    save_netcdf=True,\n",
    "    float_type=TF)"
   ]
  },
  {
   "cell_type": "markdown",
   "metadata": {},
   "source": [
    "Quick plot of potential temperature field:"
   ]
  },
  {
   "cell_type": "code",
   "execution_count": null,
   "metadata": {},
   "outputs": [],
   "source": [
    "def plot_with_bounds(x, y, fld, vmin, vmax):\n",
    "    \"\"\"\n",
    "    pcolormesh `fld` with bounds plotted on top.\n",
    "    \"\"\"\n",
    "    dx = x[1] - x[0]\n",
    "    dy = y[1] - y[0]\n",
    "\n",
    "    x0 = x[0] - dx/2.\n",
    "    x1 = x[-1] + dx/2.\n",
    "\n",
    "    y0 = y[0] - dy/2.\n",
    "    y1 = y[-1] + dy/2.\n",
    "\n",
    "    plt.pcolormesh(x, y, fld, vmin=vmin, vmax=vmax)\n",
    "    plt.plot([x0, x1, x1, x0, x0], [y0, y0, y1, y1, y0], 'w:')\n",
    "\n",
    " \n",
    "thl = np.fromfile('thl_era5.0000000', dtype=TF)\n",
    "thl = thl.reshape((ktot, dom0.jtot, dom0.itot))\n",
    "\n",
    "lbc = xr.open_dataset('lbc_ds.nc', decode_times=False)\n",
    "\n",
    "k = 0\n",
    "\n",
    "vmin = thl[k,:,:].min()\n",
    "vmax = thl[k,:,:].max()\n",
    "\n",
    "plt.figure()\n",
    "plot_with_bounds(dom0.x, dom0.y, thl[k,:,:], vmin=vmin, vmax=vmax)\n",
    "plot_with_bounds(dom0.x, dom0.y, thl[k,:,:], vmin=vmin, vmax=vmax)\n",
    "plot_with_bounds(lbc.xgw, lbc.y, lbc.thl_west[0,k,:,:], vmin=vmin, vmax=vmax)\n",
    "plot_with_bounds(lbc.xge, lbc.y, lbc.thl_east[0,k,:,:], vmin=vmin, vmax=vmax)\n",
    "plot_with_bounds(lbc.x, lbc.ygn, lbc.thl_north[0,k,:,:], vmin=vmin, vmax=vmax)\n",
    "plot_with_bounds(lbc.x, lbc.ygs, lbc.thl_south[0,k,:,:], vmin=vmin, vmax=vmax)\n",
    "\n",
    "#plot_domains([dom0], use_projection=True)\n",
    "#plt.pcolormesh(dom0.proj.lon, dom0.proj.lat, thl[0,:,:], transform=ccrs.PlateCarree())\n",
    "#plt.colorbar()"
   ]
  },
  {
   "cell_type": "markdown",
   "metadata": {},
   "source": [
    "## Cleanup!"
   ]
  },
  {
   "cell_type": "code",
   "execution_count": null,
   "metadata": {},
   "outputs": [],
   "source": [
    "files = glob.glob('*00*')\n",
    "for f in files:\n",
    "    os.remove(f)"
   ]
  }
 ],
 "metadata": {
  "kernelspec": {
   "display_name": ".venv",
   "language": "python",
   "name": "python3"
  },
  "language_info": {
   "codemirror_mode": {
    "name": "ipython",
    "version": 3
   },
   "file_extension": ".py",
   "mimetype": "text/x-python",
   "name": "python",
   "nbconvert_exporter": "python",
   "pygments_lexer": "ipython3",
   "version": "3.9.5"
  }
 },
 "nbformat": 4,
 "nbformat_minor": 2
}
