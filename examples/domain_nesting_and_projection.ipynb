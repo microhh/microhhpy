{
 "cells": [
  {
   "cell_type": "code",
   "execution_count": null,
   "metadata": {},
   "outputs": [],
   "source": [
    "# Standard library\n",
    "\n",
    "# Third-party.\n",
    "import matplotlib.pyplot as plt\n",
    "import numpy as np\n",
    "\n",
    "# Local library\n",
    "from microhhpy.spatial import Domain, plot_domains\n",
    "\n",
    "TF = np.float32"
   ]
  },
  {
   "cell_type": "markdown",
   "metadata": {},
   "source": [
    "## Domain setup without spatial projection."
   ]
  },
  {
   "cell_type": "code",
   "execution_count": null,
   "metadata": {},
   "outputs": [],
   "source": [
    "d0 = Domain(\n",
    "    xsize=3200,\n",
    "    ysize=3200,\n",
    "    itot=32,\n",
    "    jtot=32,\n",
    "    n_ghost=3,\n",
    "    n_sponge=4,\n",
    "    )\n",
    "\n",
    "d1 = Domain(\n",
    "    xsize=1600,\n",
    "    ysize=1600,\n",
    "    itot=32,\n",
    "    jtot=32,\n",
    "    n_ghost=3,\n",
    "    n_sponge=4,\n",
    "    parent=d0,\n",
    "    center_in_parent=True,\n",
    "    )\n",
    "\n",
    "d2 = Domain(\n",
    "    xsize=800,\n",
    "    ysize=800,\n",
    "    itot=32,\n",
    "    jtot=32,\n",
    "    n_ghost=3,\n",
    "    n_sponge=0,\n",
    "    parent=d1,\n",
    "    xstart_in_parent=200,\n",
    "    ystart_in_parent=200,\n",
    "    )\n",
    "\n",
    "# Domain start/end should be an integer multiple of the parent dx and dy.\n",
    "# This won't work:\n",
    "#d2 = Domain(\n",
    "#    xsize=800,\n",
    "#    ysize=800,\n",
    "#    itot=32,\n",
    "#    jtot=32,\n",
    "#    n_ghost=3,\n",
    "#    n_sponge=0,\n",
    "#    parent=d1,\n",
    "#    xstart_in_parent=np.pi**np.e,\n",
    "#    ystart_in_parent=np.pi**np.e,\n",
    "#    )\n",
    "\n",
    "d0.child = d1\n",
    "d1.child = d2\n",
    "\n",
    "plot_domains([d0, d1, d2])"
   ]
  },
  {
   "cell_type": "markdown",
   "metadata": {},
   "source": [
    "## Domain setup with spatial projection."
   ]
  },
  {
   "cell_type": "code",
   "execution_count": null,
   "metadata": {},
   "outputs": [],
   "source": [
    "lat = 51.97\n",
    "lon = 4.92\n",
    "\n",
    "# Define projection lat/lon <-> meters.\n",
    "#proj_str = '+proj=utm +zone=31 +ellps=intl +towgs84=-87,-98,-121,0,0,0,0 +units=m +no_defs +type=crs'\n",
    "proj_str = f'+proj=lcc +lat_1={lat-1} +lat_2={lat+1} +lat_0={lat} +lon_0={lon} +x_0=0 +y_0=0 +datum=WGS84 +units=m +no_defs'\n",
    "\n",
    "d0 = Domain(\n",
    "    xsize=512_000,\n",
    "    ysize=512_000,\n",
    "    itot=64,\n",
    "    jtot=64,\n",
    "    n_ghost=3,\n",
    "    n_sponge=5,\n",
    "    lon=lon,\n",
    "    lat=lat,\n",
    "    anchor='center',\n",
    "    proj_str=proj_str\n",
    "    )\n",
    "\n",
    "d1 = Domain(\n",
    "    xsize=256_000,\n",
    "    ysize=256_000,\n",
    "    itot=64,\n",
    "    jtot=64,\n",
    "    n_ghost=3,\n",
    "    n_sponge=3,\n",
    "    parent=d0,\n",
    "    center_in_parent=True\n",
    "    )\n",
    "\n",
    "d0.child = d1\n",
    "\n",
    "plot_domains([d0, d1], use_projection=True, scatter_lonlat=False, osm_background=True, zoom_level=6)"
   ]
  },
  {
   "cell_type": "markdown",
   "metadata": {},
   "source": [
    "## Spatial transforms\n",
    "\n",
    "Each domain has `.proj` instance that contains the lat/lon coordinates (see docstring of `microhhpy.spatial.Projection`), and can do x/y <-> lon/lat transforms.\n",
    "\n"
   ]
  },
  {
   "cell_type": "code",
   "execution_count": null,
   "metadata": {},
   "outputs": [],
   "source": [
    "d0 = Domain(\n",
    "    xsize=32_000,\n",
    "    ysize=32_000,\n",
    "    itot=4,\n",
    "    jtot=4,\n",
    "    n_ghost=3,\n",
    "    n_sponge=5,\n",
    "    lon=lon,\n",
    "    lat=lat,\n",
    "    anchor='center',\n",
    "    proj_str=proj_str\n",
    "    )\n",
    "\n",
    "plt.figure()\n",
    "plt.plot(d0.proj.lon_u, d0.proj.lat_u, 'r+')\n",
    "plt.plot(d0.proj.lon_v, d0.proj.lat_v, 'b+')\n",
    "plt.plot(d0.proj.lon, d0.proj.lat, 'gx')\n",
    "plt.plot(d0.proj.bbox_lon, d0.proj.bbox_lat, 'k--')\n",
    "\n",
    "x,y = d0.proj.to_xy(4.92, 51.97)\n",
    "lon,lat = d0.proj.to_lonlat(x, y)\n",
    "\n",
    "print(f'Coordinates ({lon:.2f}, {lat:.2f}) degrees = ({x:.2f}, {y:.2f}) m in LES.')"
   ]
  }
 ],
 "metadata": {
  "kernelspec": {
   "display_name": ".venv",
   "language": "python",
   "name": "python3"
  },
  "language_info": {
   "codemirror_mode": {
    "name": "ipython",
    "version": 3
   },
   "file_extension": ".py",
   "mimetype": "text/x-python",
   "name": "python",
   "nbconvert_exporter": "python",
   "pygments_lexer": "ipython3",
   "version": "3.9.5"
  }
 },
 "nbformat": 4,
 "nbformat_minor": 2
}
