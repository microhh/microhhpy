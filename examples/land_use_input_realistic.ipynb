{
 "cells": [
  {
   "cell_type": "code",
   "execution_count": null,
   "id": "dc2eca9e",
   "metadata": {},
   "outputs": [],
   "source": [
    "from datetime import datetime\n",
    "import glob\n",
    "import os\n",
    "\n",
    "import matplotlib.pyplot as plt\n",
    "from scipy.interpolate import RegularGridInterpolator\n",
    "import numpy as np\n",
    "import xarray as xr\n",
    "\n",
    "import ls2d\n",
    "\n",
    "from microhhpy.spatial import Domain, plot_domains\n",
    "from microhhpy.land import create_land_surface_input\n",
    "from microhhpy.land import get_ifs_soil_lut, get_ifs_vegetation_lut, get_ifs_vegetation_cmap\n",
    "from microhhpy.land import read_hihydrosoil_subtop\n",
    "from microhhpy.real import create_sst_from_regular_latlon\n",
    "from microhhpy.interp import extrapolate_onto_mask, interp_rect_to_curv_latlon_2d\n",
    "\n",
    "TF = np.float64"
   ]
  },
  {
   "cell_type": "markdown",
   "id": "e0e72a26",
   "metadata": {},
   "source": [
    "## Realistic heterogeneous land-use\n",
    "For realistic cases, we provide methods to create land-surface input from:\n",
    "- [Corine, Europe, 100m resolution](https://land.copernicus.eu/en/products/corine-land-cover)\n",
    "- [LCC, Global, 100 m resolution](https://land.copernicus.eu/en/products/global-dynamic-land-cover/copernicus-global-land-service-land-cover-100m-collection-3-epoch-2019-globe)\n",
    "- [LCC, Global 10 m resolution](https://land.copernicus.eu/en/products/global-dynamic-land-cover/land-cover-2020-raster-10-m-global-annual) (Not yet, TODO!)"
   ]
  },
  {
   "cell_type": "code",
   "execution_count": null,
   "id": "5b4c25f0",
   "metadata": {},
   "outputs": [],
   "source": [
    "corine_tiff = '/home/scratch1/bart/Corine/u2018_clc2018_v2020_20u1_raster100m/DATA/U2018_CLC2018_V2020_20u1.tif'\n",
    "lcc_tiff = '/home/scratch1/bart/LCC/PROBAV_LC100_global_v3.0.1_2019-nrt_Discrete-Classification-map_EPSG-4326.tif'\n",
    "hihydrosoil_tiffs = '/home/scratch1/bart/HiHydroSoil_v2.0'"
   ]
  },
  {
   "cell_type": "code",
   "execution_count": null,
   "id": "c51f470e",
   "metadata": {},
   "outputs": [],
   "source": [
    "\"\"\"\n",
    "Setup domain / projection.\n",
    "\"\"\"\n",
    "lon = 5.3\n",
    "lat = 53.1\n",
    "proj_str = f'+proj=lcc +lat_1={lat-1} +lat_2={lat+1} +lat_0={lat} +lon_0={lon} +x_0=0 +y_0=0 +datum=WGS84 +units=m +no_defs'\n",
    "\n",
    "dom = Domain(\n",
    "    xsize = 204800,\n",
    "    ysize = 204800,\n",
    "    itot = 1024,\n",
    "    jtot = 1024,\n",
    "    lon = lon,\n",
    "    lat = lat,\n",
    "    anchor = 'center',\n",
    "    proj_str = proj_str)\n",
    "\n",
    "plot_domains([dom], use_projection=True)\n",
    "\n",
    "z_soil = np.array([-0.035, -0.175, -0.64 , -1.945])[::-1]\n",
    "\n",
    "lon = dom.proj.lon\n",
    "lat = dom.proj.lat"
   ]
  },
  {
   "cell_type": "code",
   "execution_count": null,
   "id": "2387684d",
   "metadata": {},
   "outputs": [],
   "source": [
    "lu_corine = create_land_surface_input(\n",
    "    lon,\n",
    "    lat,\n",
    "    z_soil,\n",
    "    land_use_source='corine_100m',\n",
    "    land_use_tiff=corine_tiff,\n",
    "    save_binaries=True,\n",
    "    output_dir='.',\n",
    "    save_netcdf=True,\n",
    "    netcdf_file='lsm_input_corine.nc',\n",
    ")\n",
    "\n",
    "lu_lcc = create_land_surface_input(\n",
    "    lon,\n",
    "    lat,\n",
    "    z_soil,\n",
    "    land_use_source='lcc_100m',\n",
    "    land_use_tiff=lcc_tiff,\n",
    "    save_binaries=True,\n",
    "    output_dir='.',\n",
    "    save_netcdf=True,\n",
    "    netcdf_file='lsm_input_lcc.nc',\n",
    ")"
   ]
  },
  {
   "cell_type": "code",
   "execution_count": null,
   "id": "db055f4f",
   "metadata": {},
   "outputs": [],
   "source": [
    "veg_lut = get_ifs_vegetation_lut()\n",
    "names = veg_lut['name']\n",
    "ifs_cmap = get_ifs_vegetation_cmap()\n",
    "\n",
    "plt.figure(figsize=(10, 5), layout='constrained')\n",
    "\n",
    "ax=plt.subplot(121)\n",
    "plt.title('Corine 100 m')\n",
    "plt.pcolormesh(lu_corine.lon, lu_corine.lat, lu_corine.ds.index_veg, vmin=0, vmax=20, cmap=ifs_cmap)\n",
    "\n",
    "plt.subplot(122, sharex=ax, sharey=ax)\n",
    "plt.title('LCC 100 m')\n",
    "plt.pcolormesh(lu_lcc.lon, lu_lcc.lat, lu_lcc.ds.index_veg, vmin=0, vmax=20, cmap=ifs_cmap)\n",
    "\n",
    "cbar = plt.colorbar(shrink=0.8)\n",
    "cbar.set_ticks(np.arange(21))\n",
    "cbar.set_ticklabels([veg_type.replace('_', ' ').title() for veg_type in names])\n",
    "cbar.ax.tick_params(labelsize=8)"
   ]
  },
  {
   "cell_type": "markdown",
   "id": "60373467",
   "metadata": {},
   "source": [
    "## Sea Surface\n",
    "\n",
    "Initializing sea surface temperatures (SSTs) can be challenging, especially when spatial interpolation are needed between sea and land grid points in the host model. To overcome this, we offer a method that first extrapolates SSTs over land areas before performing the interpolation. "
   ]
  },
  {
   "cell_type": "code",
   "execution_count": null,
   "id": "66af2c1a",
   "metadata": {},
   "outputs": [],
   "source": [
    "settings = {\n",
    "    'start_date'  : datetime(year=2022, month=4, day=1, hour=8),\n",
    "    'end_date'    : datetime(year=2022, month=4, day=1, hour=20),\n",
    "    'central_lon' : 4.8,\n",
    "    'central_lat' : 53,\n",
    "    'area_size'   : 5,\n",
    "    'case_name'   : 'slocs_rf',\n",
    "    'era5_path'   : '/home/scratch1/bart/LS2D_ERA5/',\n",
    "    'era5_expver' : 1,\n",
    "    'cdsapirc'    : '/home/bart/.cdsapirc_ads'\n",
    "    }\n",
    "\n",
    "era5 = ls2d.Read_era5(settings)\n",
    "era5.calculate_forcings(n_av=3, method='2nd')"
   ]
  },
  {
   "cell_type": "code",
   "execution_count": null,
   "id": "32d33d45",
   "metadata": {},
   "outputs": [],
   "source": [
    "sst_era = era5.sst[0]\n",
    "\n",
    "sst_les = create_sst_from_regular_latlon(\n",
    "    era5.sst[0],\n",
    "    era5.lons,\n",
    "    era5.lats,\n",
    "    lon,\n",
    "    lat,\n",
    "    float_type=TF)\n",
    "\n",
    "# We don't know water temperatures over land, and the extrapolated\n",
    "# SSTs are of course not a very accurate estimation...\n",
    "# TODO: get inland water mask from Corine/LCC and let user define water/lake temperatures?\n",
    "land_mask = lu_lcc.water_mask < 1\n",
    "sst_les[sst_les < 273.15] = 273.15 + 15\n",
    "\n",
    "# Just for plotting...\n",
    "sst_les = np.ma.masked_array(sst_les, mask=land_mask)\n",
    "\n",
    "plt.figure(figsize=(8, 3.5), layout='constrained')\n",
    "\n",
    "plt.subplot(121)\n",
    "plt.title('ERA5 SST')\n",
    "plt.pcolormesh(era5.lons, era5.lats, era5.sst[0], vmin=278, vmax=283)\n",
    "plt.colorbar()\n",
    "plt.xlim(lon.min(), lon.max())\n",
    "plt.ylim(lat.min(), lat.max())\n",
    "\n",
    "plt.subplot(122)\n",
    "plt.title('LES SST')\n",
    "plt.pcolormesh(lon, lat, sst_les, vmin=278, vmax=283)\n",
    "plt.colorbar()\n",
    "plt.xlim(lon.min(), lon.max())\n",
    "plt.ylim(lat.min(), lat.max())"
   ]
  },
  {
   "cell_type": "markdown",
   "id": "3d5ac4af",
   "metadata": {},
   "source": [
    "## Soil moisture: TODO\n",
    "\n",
    "Soil moisture is equally challenging, as many ERA5 values near the coast result from interpolations between sea and land grid points, leading to artificially low values. In addition, the soil dataset also does not have values over sea.."
   ]
  },
  {
   "cell_type": "code",
   "execution_count": null,
   "id": "a61ab22b",
   "metadata": {},
   "outputs": [],
   "source": [
    "#lon = dom.proj.lon\n",
    "#lat = dom.proj.lat\n",
    "#\n",
    "## HiHydroSoil dataset (250 m resolution).\n",
    "#ds_hihy = read_hihydrosoil_subtop(hihydrosoil_tiffs, lon.min(), lon.max(), lat.min(), lat.max())\n",
    "#\n",
    "## Extrapolate all known values a few grid points onto sea to allow interpolations near the coast.\n",
    "#for var in ds_hihy:\n",
    "#    ds_hihy[var] = (ds_hihy[var].dims, extrapolate_onto_mask(ds_hihy[var].values, ~np.isnan(ds_hihy[var]), max_distance=5))\n",
    "#\n",
    "## Interpolate dataset onto LES grid (NN).\n",
    "#latlon_out = np.column_stack([lat.ravel(), lon.ravel()])\n",
    "#\n",
    "#data_vars = {}\n",
    "#for name, da in ds_hihy.data_vars.items():\n",
    "#    ip = RegularGridInterpolator((ds_hihy.y, ds_hihy.x), da.values, method='nearest', bounds_error=True)\n",
    "#    fld_out = ip(latlon_out).reshape(lat.shape)\n",
    "#    data_vars[name] = (('y', 'x'), fld_out)\n",
    "#\n",
    "#ds_hihy_les = xr.Dataset(\n",
    "#    data_vars=data_vars,\n",
    "#    coords={'lat': (('y','x'), lat),\n",
    "#            'lon': (('y','x'), lon)}\n",
    "#)"
   ]
  },
  {
   "cell_type": "code",
   "execution_count": null,
   "id": "b239a9db",
   "metadata": {},
   "outputs": [],
   "source": [
    "## Soil lookup table with hydraulic properties.\n",
    "#vg_ds = get_ifs_soil_lut()"
   ]
  },
  {
   "cell_type": "code",
   "execution_count": null,
   "id": "30e414f9",
   "metadata": {},
   "outputs": [],
   "source": [
    "## Process ERA5 data: from absolute to relative soil moisture, which is something we can spatially interpolate.\n",
    "#theta_soil = era5.theta_soil[0]\n",
    "#soil_index = era5.soil_type[0,:,:] - 1      # FØRTRAN to C.\n",
    "#\n",
    "#theta_wp = vg_ds.theta_wp.values[soil_index]\n",
    "#theta_fc = vg_ds.theta_fc.values[soil_index]\n",
    "#theta_rel = (theta_soil - theta_wp) / (theta_fc - theta_wp)\n",
    "#\n",
    "## Mask grid points which are partially sea. In ERA5, these have been interpolated between land and sea,\n",
    "## where sea has a soil moisture content of zero, so soil moisture is artificially low.\n",
    "#land_mask = era5.sst[0].mask == 1\n",
    "#\n",
    "## Extrapolate all known values a few grid points onto sea to allow interpolations near the coast.\n",
    "#theta_rel_ext = np.empty_like(theta_rel)\n",
    "#\n",
    "#for k in range(theta_rel.shape[0]):\n",
    "#    theta_rel_ext[k] = extrapolate_onto_mask(theta_rel[k], land_mask, max_distance=2)\n",
    "#\n",
    "#theta_rel_les = np.zeros((4, lon.shape[0], lon.shape[1]), dtype=TF)\n",
    "#for k in range(4):\n",
    "#    theta_rel_les[k] = interp_rect_to_curv_latlon_2d(theta_rel_ext[k,:,:], era5.lons, era5.lats, lon, lat, float_type=TF, method='linear')"
   ]
  },
  {
   "cell_type": "code",
   "execution_count": null,
   "id": "2bfc692f",
   "metadata": {},
   "outputs": [],
   "source": [
    "# Translate interpolated relative soil moisture content back to absolute using HiHydroSoil properties interpolated to LES grid.\n"
   ]
  },
  {
   "cell_type": "code",
   "execution_count": null,
   "id": "4af825d9",
   "metadata": {},
   "outputs": [],
   "source": [
    "# Cleanup!\n",
    "files = glob.glob('*00*') + glob.glob('*.nc')\n",
    "for f in files:\n",
    "    os.remove(f)"
   ]
  }
 ],
 "metadata": {
  "kernelspec": {
   "display_name": ".venv",
   "language": "python",
   "name": "python3"
  },
  "language_info": {
   "codemirror_mode": {
    "name": "ipython",
    "version": 3
   },
   "file_extension": ".py",
   "mimetype": "text/x-python",
   "name": "python",
   "nbconvert_exporter": "python",
   "pygments_lexer": "ipython3",
   "version": "3.9.5"
  }
 },
 "nbformat": 4,
 "nbformat_minor": 5
}
