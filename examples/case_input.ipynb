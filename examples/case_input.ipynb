{
 "cells": [
  {
   "cell_type": "code",
   "execution_count": null,
   "id": "dabc38ac",
   "metadata": {},
   "outputs": [],
   "source": [
    "import numpy as np\n",
    "import microhhpy.io as io"
   ]
  },
  {
   "cell_type": "code",
   "execution_count": null,
   "id": "6ba16d0c",
   "metadata": {},
   "outputs": [],
   "source": [
    "zsize = 3200\n",
    "ktot = 64\n",
    "dz = zsize / ktot\n",
    "z = np.arange(dz/2, zsize, dz)\n",
    "th = 300 * 0.006 * z\n",
    "\n",
    "# Define case input data in dictionaries.\n",
    "# Init group is always required.\n",
    "init = dict(\n",
    "    z = z,\n",
    "    th = th\n",
    ")\n",
    "\n",
    "# Other groups are optional.\n",
    "time_sfc = np.arange(0, 10800, 600)\n",
    "p_sbot = np.zeros(time_sfc.size)\n",
    "\n",
    "tdep_sfc = dict(\n",
    "    time_surface = time_sfc,\n",
    "    p_sbot = p_sbot\n",
    ")\n",
    "\n",
    "time_ls = np.arange(0, 10800, 3600)\n",
    "th_ls = np.zeros((time_ls.size, z.size))\n",
    "\n",
    "tdep_ls = dict(\n",
    "    time_ls = time_ls,\n",
    "    th_ls = th_ls\n",
    ") \n",
    "\n",
    "io.save_case_input(\n",
    "    'my_first_les_case',\n",
    "    init_profiles = init,\n",
    "    tdep_surface = tdep_sfc,\n",
    "    tdep_ls = tdep_ls\n",
    ")"
   ]
  },
  {
   "cell_type": "code",
   "execution_count": null,
   "id": "5e823b50",
   "metadata": {},
   "outputs": [],
   "source": [
    "!ncdump -h my_first_les_case_input.nc"
   ]
  },
  {
   "cell_type": "code",
   "execution_count": null,
   "id": "ab37fe7c",
   "metadata": {},
   "outputs": [],
   "source": [
    "# See function signature for available groups and mandatory keys.\n",
    "io.save_case_input?"
   ]
  }
 ],
 "metadata": {
  "kernelspec": {
   "display_name": ".venv",
   "language": "python",
   "name": "python3"
  },
  "language_info": {
   "codemirror_mode": {
    "name": "ipython",
    "version": 3
   },
   "file_extension": ".py",
   "mimetype": "text/x-python",
   "name": "python",
   "nbconvert_exporter": "python",
   "pygments_lexer": "ipython3",
   "version": "3.9.5"
  }
 },
 "nbformat": 4,
 "nbformat_minor": 5
}
