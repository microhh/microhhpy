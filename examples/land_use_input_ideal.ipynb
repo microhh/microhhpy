{
 "cells": [
  {
   "cell_type": "code",
   "execution_count": null,
   "id": "dc2eca9e",
   "metadata": {},
   "outputs": [],
   "source": [
    "import glob\n",
    "import os\n",
    "\n",
    "import numpy as np\n",
    "\n",
    "from microhhpy.land import Land_surface_input"
   ]
  },
  {
   "cell_type": "markdown",
   "id": "d22ec3d7",
   "metadata": {},
   "source": [
    "## Idealised heterogeneous land-use\n",
    "If you manually want to create spatially varying land-surface input, for example for idealised cases, the `Land_surface_input()` is a help class for creating/saving all required MicroHH input fields."
   ]
  },
  {
   "cell_type": "code",
   "execution_count": null,
   "id": "e575ab54",
   "metadata": {},
   "outputs": [],
   "source": [
    "lsm_input = Land_surface_input(\n",
    "    itot = 32,\n",
    "    jtot = 32,\n",
    "    ktot = 4,\n",
    "    float_type = np.float32,\n",
    "    debug = True\n",
    ")\n",
    "\n",
    "# List all 2D and 3D input fields:\n",
    "print('2D:', lsm_input.fields_2d)\n",
    "print('3D:', lsm_input.fields_3d)"
   ]
  },
  {
   "cell_type": "markdown",
   "id": "78345bd2",
   "metadata": {},
   "source": [
    "All properties are 2D or 3D Numpy arrays:"
   ]
  },
  {
   "cell_type": "code",
   "execution_count": null,
   "id": "e3892f6c",
   "metadata": {},
   "outputs": [],
   "source": [
    "lsm_input.c_veg[:,:] = 0.5\n",
    "lsm_input.z0m[:,:] = 0.01"
   ]
  },
  {
   "cell_type": "markdown",
   "id": "bb4a2966",
   "metadata": {},
   "source": [
    "Save to binary (input model) and/or NetCDF (visualisation). With `debug=True`, the code checks if all 2D and 3D fields are initialised."
   ]
  },
  {
   "cell_type": "code",
   "execution_count": null,
   "id": "f7b159d1",
   "metadata": {},
   "outputs": [],
   "source": [
    "lsm_input.to_binaries(path='.', allow_overwrite=True)\n",
    "lsm_input.to_netcdf('lsm_input.nc', allow_overwrite=True)"
   ]
  },
  {
   "cell_type": "code",
   "execution_count": null,
   "id": "7b92b748",
   "metadata": {},
   "outputs": [],
   "source": [
    "# Cleanup!\n",
    "files = glob.glob('*00*') + glob.glob('*.nc')\n",
    "for f in files:\n",
    "    os.remove(f)"
   ]
  }
 ],
 "metadata": {
  "kernelspec": {
   "display_name": ".venv",
   "language": "python",
   "name": "python3"
  },
  "language_info": {
   "codemirror_mode": {
    "name": "ipython",
    "version": 3
   },
   "file_extension": ".py",
   "mimetype": "text/x-python",
   "name": "python",
   "nbconvert_exporter": "python",
   "pygments_lexer": "ipython3",
   "version": "3.9.5"
  }
 },
 "nbformat": 4,
 "nbformat_minor": 5
}
